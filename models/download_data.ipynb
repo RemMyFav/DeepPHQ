{
 "cells": [
  {
   "cell_type": "code",
   "execution_count": 1,
   "id": "07f5339b",
   "metadata": {},
   "outputs": [],
   "source": [
    "import os\n",
    "import sys\n",
    "\n",
    "# Allow imports from src/\n",
    "sys.path.append(os.path.abspath(\"..\"))\n",
    "\n",
    "from src.download_daicwoz import extract_daicwoz_transcripts, download_phq_file"
   ]
  },
  {
   "cell_type": "code",
   "execution_count": 2,
   "id": "628845f1",
   "metadata": {},
   "outputs": [
    {
     "name": "stdout",
     "output_type": "stream",
     "text": [
      "Download directory: /Users/haikeyu/Desktop/DeepPHQ/data/raw/zips\n",
      "Transcript directory: /Users/haikeyu/Desktop/DeepPHQ/data/raw/transcripts\n",
      "PHQ file directory: /Users/haikeyu/Desktop/DeepPHQ/data/raw/phq\n"
     ]
    }
   ],
   "source": [
    "# Define data directory (relative to project root)\n",
    "ZIP_DIR = \"../data/raw/zips\"\n",
    "TRANSCRIPT_DIR = \"../data/raw/transcripts\"\n",
    "PHQ_FILE_PATH = \"../data/raw/phq/phq_scores.csv\"\n",
    "\n",
    "# Ensure directory exists\n",
    "os.makedirs(ZIP_DIR, exist_ok=True)\n",
    "os.makedirs(TRANSCRIPT_DIR, exist_ok=True)\n",
    "os.makedirs(os.path.dirname(PHQ_FILE_PATH), exist_ok=True)\n",
    "\n",
    "print(f\"Download directory: {os.path.abspath(ZIP_DIR)}\")\n",
    "print(f\"Transcript directory: {os.path.abspath(TRANSCRIPT_DIR)}\")\n",
    "print(f\"PHQ file directory: {os.path.abspath(os.path.dirname(PHQ_FILE_PATH))}\")\n"
   ]
  },
  {
   "cell_type": "code",
   "execution_count": null,
   "id": "ca894f9b",
   "metadata": {},
   "outputs": [
    {
     "name": "stdout",
     "output_type": "stream",
     "text": [
      "Found 0 zip files and 1 transcripts.\n",
      "\n",
      "Downloading 300_P.zip ...\n"
     ]
    },
    {
     "name": "stderr",
     "output_type": "stream",
     "text": [
      "300_P.zip: 100%|██████████| 343M/343M [00:35<00:00, 9.66MB/s] "
     ]
    },
    {
     "name": "stdout",
     "output_type": "stream",
     "text": [
      "Downloaded: 300_P.zip\n",
      "Extracted: 300_TRANSCRIPT.csv\n",
      "Transcript already exists for 301, skipping.\n",
      "\n",
      "All transcripts ensured in ../data/raw/transcripts.\n"
     ]
    },
    {
     "name": "stderr",
     "output_type": "stream",
     "text": [
      "\n"
     ]
    }
   ],
   "source": [
    "extract_daicwoz_transcripts(\n",
    "    zip_dir=ZIP_DIR,\n",
    "    out_dir=TRANSCRIPT_DIR,\n",
    "    start_id=300,\n",
    "    end_id=492,\n",
    "    remove_zip=True\n",
    ")"
   ]
  },
  {
   "cell_type": "code",
   "execution_count": 8,
   "id": "aace39e8",
   "metadata": {},
   "outputs": [
    {
     "name": "stdout",
     "output_type": "stream",
     "text": [
      "File already exists: ../data/raw/full_test_split.csv\n"
     ]
    }
   ],
   "source": [
    "csv_path = download_phq_file(\n",
    "    filename=\"full_test_split.csv\",\n",
    "    output_dir=\"../data/raw\"\n",
    ")"
   ]
  }
 ],
 "metadata": {
  "kernelspec": {
   "display_name": ".venv",
   "language": "python",
   "name": "python3"
  },
  "language_info": {
   "codemirror_mode": {
    "name": "ipython",
    "version": 3
   },
   "file_extension": ".py",
   "mimetype": "text/x-python",
   "name": "python",
   "nbconvert_exporter": "python",
   "pygments_lexer": "ipython3",
   "version": "3.12.0"
  }
 },
 "nbformat": 4,
 "nbformat_minor": 5
}
