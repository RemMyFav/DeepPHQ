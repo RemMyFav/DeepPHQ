{
 "cells": [
  {
   "cell_type": "code",
   "execution_count": 1,
   "id": "07f5339b",
   "metadata": {},
   "outputs": [],
   "source": [
    "import os\n",
    "import sys\n",
    "\n",
    "# Allow imports from src/\n",
    "sys.path.append(os.path.abspath(\"..\"))\n",
    "\n",
    "from src.download_daicwoz import download_daicwoz,  extract_daicwoz_transcripts, download_phq_file"
   ]
  },
  {
   "cell_type": "code",
   "execution_count": 2,
   "id": "628845f1",
   "metadata": {},
   "outputs": [
    {
     "name": "stdout",
     "output_type": "stream",
     "text": [
      "Download directory: /Users/haikeyu/Desktop/DeepPHQ/data/raw/zips\n"
     ]
    }
   ],
   "source": [
    "# Define data directory (relative to project root)\n",
    "output_dir = \"../data/raw/zips\"\n",
    "\n",
    "# Ensure directory exists\n",
    "os.makedirs(output_dir, exist_ok=True)\n",
    "\n",
    "print(f\"Download directory: {os.path.abspath(output_dir)}\")\n"
   ]
  },
  {
   "cell_type": "code",
   "execution_count": 3,
   "id": "ca894f9b",
   "metadata": {},
   "outputs": [
    {
     "name": "stdout",
     "output_type": "stream",
     "text": [
      "Output directory: /Users/haikeyu/Desktop/DeepPHQ/data/raw/zips\n",
      "Downloading 300_P.zip ...\n"
     ]
    },
    {
     "name": "stderr",
     "output_type": "stream",
     "text": [
      "300_P.zip: 100%|██████████| 343M/343M [00:17<00:00, 19.7MB/s] \n"
     ]
    },
    {
     "name": "stdout",
     "output_type": "stream",
     "text": [
      "Downloaded: 300_P.zip\n",
      "Downloading 301_P.zip ...\n"
     ]
    },
    {
     "name": "stderr",
     "output_type": "stream",
     "text": [
      "301_P.zip: 100%|██████████| 423M/423M [02:23<00:00, 2.94MB/s] "
     ]
    },
    {
     "name": "stdout",
     "output_type": "stream",
     "text": [
      "Downloaded: 301_P.zip\n",
      "All downloads attempted. Check data/raw/zips/\n"
     ]
    },
    {
     "name": "stderr",
     "output_type": "stream",
     "text": [
      "\n"
     ]
    }
   ],
   "source": [
    "# Download DAIC-WOZ participant zip files\n",
    "download_daicwoz(\n",
    "    output_dir=output_dir,\n",
    "    start_id=300,\n",
    "    end_id=301,\n",
    "    skip_existing=True\n",
    ")"
   ]
  },
  {
   "cell_type": "code",
   "execution_count": 4,
   "id": "c844789d",
   "metadata": {},
   "outputs": [
    {
     "name": "stdout",
     "output_type": "stream",
     "text": [
      "Found 2 zip files in ../data/raw/zips\n",
      "Extracted: 301_TRANSCRIPT.csv\n",
      "Removed: 301_P.zip\n",
      "Extracted: 300_TRANSCRIPT.csv\n",
      "Removed: 300_P.zip\n",
      "All transcripts extracted to ../data/raw/transcripts\n"
     ]
    }
   ],
   "source": [
    "extract_daicwoz_transcripts(\n",
    "    zip_dir=\"../data/raw/zips\",\n",
    "    out_dir=\"../data/raw/transcripts\",\n",
    "    remove_zip=True\n",
    ")"
   ]
  },
  {
   "cell_type": "code",
   "execution_count": 7,
   "id": "aace39e8",
   "metadata": {},
   "outputs": [
    {
     "name": "stdout",
     "output_type": "stream",
     "text": [
      "Downloading full_test_split.csv from https://dcapswoz.ict.usc.edu/wwwdaicwoz/full_test_split.csv\n"
     ]
    },
    {
     "name": "stderr",
     "output_type": "stream",
     "text": [
      "full_test_split.csv: 100%|██████████| 620/620 [00:00<00:00, 7.98MB/s]"
     ]
    },
    {
     "name": "stdout",
     "output_type": "stream",
     "text": [
      "Downloaded: full_test_split.csv\n"
     ]
    },
    {
     "name": "stderr",
     "output_type": "stream",
     "text": [
      "\n"
     ]
    }
   ],
   "source": [
    "csv_path = download_phq_file(\n",
    "    filename=\"full_test_split.csv\",\n",
    "    output_dir=\"../data/raw\"\n",
    ")"
   ]
  }
 ],
 "metadata": {
  "kernelspec": {
   "display_name": ".venv",
   "language": "python",
   "name": "python3"
  },
  "language_info": {
   "codemirror_mode": {
    "name": "ipython",
    "version": 3
   },
   "file_extension": ".py",
   "mimetype": "text/x-python",
   "name": "python",
   "nbconvert_exporter": "python",
   "pygments_lexer": "ipython3",
   "version": "3.12.0"
  }
 },
 "nbformat": 4,
 "nbformat_minor": 5
}
